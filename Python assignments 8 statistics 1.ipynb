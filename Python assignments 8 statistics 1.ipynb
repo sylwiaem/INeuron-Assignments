{
 "cells": [
  {
   "cell_type": "markdown",
   "metadata": {},
   "source": [
    "Calculate the mean, median, mode and standard deviation for the problem\n",
    "statements 1& 2."
   ]
  },
  {
   "cell_type": "markdown",
   "metadata": {},
   "source": [
    "#### Problem Statement 1:\n",
    "The marks awarded for an assignment set for a Year 8 class of 20 students were as\n",
    "follows:\n",
    "6 7 5 7 7 8 7 6 9 7 4 10 6 8 8 9 5 6 4 8"
   ]
  },
  {
   "cell_type": "code",
   "execution_count": 1,
   "metadata": {},
   "outputs": [],
   "source": [
    "import numpy as np\n",
    "from scipy import stats\n",
    "import math\n",
    "import statistics\n",
    "import os\n",
    "import sys"
   ]
  },
  {
   "cell_type": "code",
   "execution_count": 2,
   "metadata": {},
   "outputs": [],
   "source": [
    "arr = np.asarray([6,7,5,7,7,8,7,6,9,7,4,10,6,8,8,9,5,6,4,8])"
   ]
  },
  {
   "cell_type": "code",
   "execution_count": 3,
   "metadata": {},
   "outputs": [
    {
     "name": "stdout",
     "output_type": "stream",
     "text": [
      "Mean: 6.85\n",
      "Median: 7.0\n",
      "Mode: 7\n",
      "Standard deviation: 1.5898113095584647\n"
     ]
    }
   ],
   "source": [
    "print(str(\"Mean: \" + str(np.mean(arr))))\n",
    "print(str(\"Median: \" + str(np.median(arr))))\n",
    "print(str(\"Mode: \" + str(statistics.mode(arr))))\n",
    "print(str(\"Standard deviation: \" + str(np.std(arr))))"
   ]
  },
  {
   "cell_type": "markdown",
   "metadata": {},
   "source": [
    "#### Problem Statement 2:\n",
    "The number of calls from motorists per day for roadside service was recorded for a\n",
    "particular month:\n",
    "28, 122, 217, 130, 120, 86, 80, 90, 140, 120, 70, 40, 145, 113, 90, 68, 174, 194, 170,\n",
    "100, 75, 104, 97, 75,\n",
    "123, 100, 75, 104, 97, 75, 123, 100, 89, 120, 109"
   ]
  },
  {
   "cell_type": "code",
   "execution_count": 4,
   "metadata": {},
   "outputs": [],
   "source": [
    "arr_1 = np.asarray([28, 122, 217, 130, 120, 86, 80, 90, 140, 120, 70, 40, 145, 113, 90, 68, 174, 194, 170, 100, 75, 104, 97, 75, 123, 100, 75, 104, 97, 75, 123, 100, 89, 120, 109])"
   ]
  },
  {
   "cell_type": "code",
   "execution_count": 5,
   "metadata": {},
   "outputs": [
    {
     "name": "stdout",
     "output_type": "stream",
     "text": [
      "Mean: 107.51428571428572\n",
      "Median: 100.0\n",
      "Mode: 75\n",
      "Standard deviation: 38.77287080168403\n"
     ]
    }
   ],
   "source": [
    "print(str(\"Mean: \" + str(np.mean(arr_1))))\n",
    "print(str(\"Median: \" + str(np.median(arr_1))))\n",
    "print(str(\"Mode: \" + str(statistics.mode(arr_1))))\n",
    "print(str(\"Standard deviation: \" + str(np.std(arr_1))))"
   ]
  },
  {
   "cell_type": "markdown",
   "metadata": {},
   "source": [
    "#### Problem Statement 3:\n",
    "The number of times I go to the gym in weekdays, are given below along with its\n",
    "associated probability:\n",
    "x = 0, 1, 2, 3, 4, 5\n",
    "f(x) = 0.09, 0.15, 0.40, 0.25, 0.10, 0.01\n",
    "Calculate the mean no. of workouts in a week. Also evaluate the variance involved in\n",
    "it.\n"
   ]
  },
  {
   "cell_type": "code",
   "execution_count": 6,
   "metadata": {},
   "outputs": [],
   "source": [
    "x = [0, 1, 2, 3, 4, 5]\n",
    "f = [0.09, 0.15, 0.40, 0.25, 0.10, 0.01]"
   ]
  },
  {
   "cell_type": "code",
   "execution_count": 7,
   "metadata": {},
   "outputs": [],
   "source": [
    "mean = sum([x[i] * f[i] for i in range(len(x))])"
   ]
  },
  {
   "cell_type": "code",
   "execution_count": 8,
   "metadata": {},
   "outputs": [
    {
     "name": "stdout",
     "output_type": "stream",
     "text": [
      "2.15\n"
     ]
    }
   ],
   "source": [
    "print(mean)"
   ]
  },
  {
   "cell_type": "code",
   "execution_count": 9,
   "metadata": {},
   "outputs": [],
   "source": [
    "variance = sum([((x[i]-mean)**2) * f[i] for i in range(len(x))])"
   ]
  },
  {
   "cell_type": "code",
   "execution_count": 10,
   "metadata": {},
   "outputs": [
    {
     "name": "stdout",
     "output_type": "stream",
     "text": [
      "1.2275\n"
     ]
    }
   ],
   "source": [
    "print(variance)"
   ]
  },
  {
   "cell_type": "markdown",
   "metadata": {},
   "source": [
    "#### Problem Statement 4 & Statement 9 (both the same):\n",
    "Let the continuous random variable D denote the diameter of the hole drilled in an\n",
    "aluminum sheet. The target diameter to be achieved is 12.5mm. Random\n",
    "disturbances in the process often result in inaccuracy.\n",
    "Historical data shows that the distribution of D can be modelled by the PDF (𝑑) =\n",
    "20𝑒−20(𝑑−12.5), 𝑑 ≥ 12.5. If a part with diameter > 12.6 mm needs to be scrapped,\n",
    "what is the proportion of those parts? What is the CDF when the diameter is of 11\n",
    "mm? What is your conclusion regarding the proportion of scraps?"
   ]
  },
  {
   "cell_type": "code",
   "execution_count": 11,
   "metadata": {},
   "outputs": [],
   "source": [
    "from scipy import integrate"
   ]
  },
  {
   "cell_type": "code",
   "execution_count": 27,
   "metadata": {
    "scrolled": true
   },
   "outputs": [
    {
     "name": "stdout",
     "output_type": "stream",
     "text": [
      "Proportion of Parts need to scrapped when d >12.6mm is: 0.13533528323661398 \n",
      "Proportion of Parts between 12.5 and 12.6 is: 0.8646647167633861 \n",
      "CDF when d= 11mm is:nan\n",
      "\n",
      "\n",
      "Because 0.135 is the proportion of parts with diameter greater than 12.60 a large proportion of parts is scrapped.\n",
      "Process improvement is needed to increase the proportion of parts with diameter near 12.50 mm. \n"
     ]
    },
    {
     "name": "stderr",
     "output_type": "stream",
     "text": [
      "<ipython-input-27-cb978bc1dee0>:1: RuntimeWarning: overflow encountered in exp\n",
      "  PDF=lambda d:20*(np.exp((-20*(d-12.5))))\n",
      "<ipython-input-27-cb978bc1dee0>:6: IntegrationWarning: The maximum number of subdivisions (50) has been achieved.\n",
      "  If increasing the limit yields no improvement it is advised to analyze \n",
      "  the integrand in order to determine the difficulties.  If the position of a \n",
      "  local difficulty can be determined (singularity, discontinuity) one will \n",
      "  probably gain from splitting up the interval and calling the integrator \n",
      "  on the subranges.  Perhaps a special-purpose integrator should be used.\n",
      "  CDF=integrate.quad(PDF,-np.inf,y)\n"
     ]
    }
   ],
   "source": [
    "PDF=lambda d:20*(np.exp((-20*(d-12.5))))\n",
    "\n",
    "x = 12.6\n",
    "P_x=integrate.quad(PDF,12.6,np.inf)\n",
    "y = 11\n",
    "CDF=integrate.quad(PDF,-np.inf,y)\n",
    "print(\"Proportion of Parts need to scrapped when d >12.6mm is: {} \".format(P_x[0]))\n",
    "print(\"Proportion of Parts between 12.5 and 12.6 is: {} \".format(1-P_x[0]))\n",
    "print(f\"CDF when d= 11mm is:{CDF[0]}\")\n",
    "print(\"\\n\")\n",
    "print(\"Because 0.135 is the proportion of parts with diameter greater than 12.60 a large proportion of parts is scrapped.\\nProcess improvement is needed to increase the proportion of parts with diameter near 12.50 mm. \")"
   ]
  },
  {
   "cell_type": "markdown",
   "metadata": {},
   "source": [
    "#### Problem Statement 5:\n",
    "A company manufactures LED bulbs with a faulty rate of 30%. If I randomly select 6\n",
    "chosen LEDs, what is the probability of having 2 faulty LEDs in my sample?\n",
    "Calculate the average value of this process. Also evaluate the standard deviation\n",
    "associated with it.\n"
   ]
  },
  {
   "cell_type": "code",
   "execution_count": 13,
   "metadata": {},
   "outputs": [],
   "source": [
    "import matplotlib.pyplot as plt\n",
    "import seaborn as sns\n",
    "%matplotlib inline\n",
    "import pandas as pd\n",
    "import scipy.special"
   ]
  },
  {
   "cell_type": "code",
   "execution_count": 30,
   "metadata": {},
   "outputs": [
    {
     "name": "stdout",
     "output_type": "stream",
     "text": [
      "a      2.000000\n",
      "B_a    0.324135\n",
      "Name: 2, dtype: float64\n"
     ]
    },
    {
     "data": {
      "text/plain": [
       "Text(0, 0.5, 'Probability of Fault')"
      ]
     },
     "execution_count": 30,
     "metadata": {},
     "output_type": "execute_result"
    },
    {
     "data": {
      "image/png": "[encoded data removed]",
      "text/plain": [
       "<Figure size 864x432 with 1 Axes>"
      ]
     },
     "metadata": {
      "needs_background": "light"
     },
     "output_type": "display_data"
    }
   ],
   "source": [
    "x = 0.3 # faulty\n",
    "y = 0.7 # not faulty\n",
    "df=pd.DataFrame({'a':[int(i) for i in range(7)],\n",
    "                 'B_a':[scipy.special.comb(6,i)*(x**i)*(y**(6-i)) for i in range(7)]})\n",
    "print(df.iloc[2])\n",
    "plt.figure(figsize=(12,6))\n",
    "sns.barplot('a','B_a',data=df)\n",
    "plt.xlabel('Number of Faulty Leds')\n",
    "plt.ylabel('Probability of Fault')"
   ]
  },
  {
   "cell_type": "code",
   "execution_count": 15,
   "metadata": {},
   "outputs": [
    {
     "name": "stdout",
     "output_type": "stream",
     "text": [
      "mean = 2.0\n",
      "Standard Deviation : 1.0\n"
     ]
    }
   ],
   "source": [
    "df['Expected value']=df['a']*df['B_a']\n",
    "mean=np.round(df['Expected value'].sum())\n",
    "print('mean = {}'.format(mean))\n",
    "df['variance']=df['B_a']*(df['a']-mean)**2\n",
    "std=np.sqrt(df['variance'].sum())\n",
    "print(f\"Standard Deviation : {np.round(std)}\")"
   ]
  },
  {
   "cell_type": "markdown",
   "metadata": {},
   "source": [
    "#### Problem Statement 6:\n",
    "Gaurav and Barakha are both preparing for entrance exams. Gaurav attempts to\n",
    "solve 8 questions per day with a correction rate of 75%, while Barakha averages\n",
    "around 12 questions per day with a correction rate of 45%. What is the probability\n",
    "that each of them will solve 5 questions correctly? What happens in cases of 4 and 6\n",
    "correct solutions? What do you infer from it? What are the two main governing\n",
    "factors affecting their ability to solve questions correctly? Give a pictorial\n",
    "representation of the same to validate your answer."
   ]
  },
  {
   "cell_type": "code",
   "execution_count": 31,
   "metadata": {},
   "outputs": [
    {
     "name": "stdout",
     "output_type": "stream",
     "text": [
      "The probability that each of them will solve 5 questions correctly is: 0.04619989057299213\n",
      "The probability that they will solve 4 and 6 questions correctly is: 0.018374956477894576\n"
     ]
    }
   ],
   "source": [
    "# Gurav 8 questions with correction rate 75% -0.75\n",
    "# Barakha 12 questions with correction rate 45% - 0.45\n",
    "\n",
    "from scipy.stats import binom\n",
    "\n",
    "solv_5 = binom.pmf(5,8,0.75) * binom.pmf(5,12,0.45)\n",
    "solv_4_6 =binom.pmf(4,8,0.75) * binom.pmf(6,12,0.45)\n",
    "\n",
    "print('The probability that each of them will solve 5 questions correctly is: {}'.format(solv_5))\n",
    "print('The probability that they will solve 4 and 6 questions correctly is: {}'.format(solv_4_6))"
   ]
  },
  {
   "cell_type": "code",
   "execution_count": 44,
   "metadata": {},
   "outputs": [],
   "source": [
    "def prob_plot(number, rate):\n",
    "    fig,ax = plt.subplots(1,1)\n",
    "    x = np.arange(binom.ppf(0.01, number, rate),binom.ppf(0.99, number, rate))\n",
    "    ax.plot(x, binom.pmf(x, number, rate), 'bs', ms=8, label='binom pmf')\n",
    "    ax.vlines(x, 0, binom.pmf(x, number, rate), colors='b', lw=5, alpha=0.5)"
   ]
  },
  {
   "cell_type": "code",
   "execution_count": 45,
   "metadata": {},
   "outputs": [
    {
     "data": {
      "image/png": "[encoded data removed]",
      "text/plain": [
       "<Figure size 432x288 with 1 Axes>"
      ]
     },
     "metadata": {
      "needs_background": "light"
     },
     "output_type": "display_data"
    }
   ],
   "source": [
    "prob_plot(8,0.75) # correction rate for Gaurav"
   ]
  },
  {
   "cell_type": "code",
   "execution_count": 46,
   "metadata": {},
   "outputs": [
    {
     "data": {
      "image/png": "[encoded data removed]",
      "text/plain": [
       "<Figure size 432x288 with 1 Axes>"
      ]
     },
     "metadata": {
      "needs_background": "light"
     },
     "output_type": "display_data"
    }
   ],
   "source": [
    "prob_plot(12,0.45) # correction rate for Barakha"
   ]
  },
  {
   "cell_type": "code",
   "execution_count": 43,
   "metadata": {},
   "outputs": [
    {
     "data": {
      "text/plain": [
       "<matplotlib.collections.LineCollection at 0x17c389e9d90>"
      ]
     },
     "execution_count": 43,
     "metadata": {},
     "output_type": "execute_result"
    },
    {
     "data": {
      "image/png": "[encoded data removed]",
      "text/plain": [
       "<Figure size 432x288 with 1 Axes>"
      ]
     },
     "metadata": {
      "needs_background": "light"
     },
     "output_type": "display_data"
    }
   ],
   "source": [
    "fig,ax=plt.subplots(1,1)\n",
    "x = np.arange(1,11)\n",
    "ax.plot(x, binom.pmf(x,8,0.75)*binom.pmf(x,12,0.45), 'bs',ms=8, label='binom pmf')\n",
    "ax.vlines(x, 0, binom.pmf(x,8,0.75)*binom.pmf(x,12,0.45), colors='r', lw=5, alpha=0.5)"
   ]
  },
  {
   "cell_type": "markdown",
   "metadata": {},
   "source": [
    "Maximum combined probability can be observed at question 6. It looks like their correction rates effects combined probability."
   ]
  },
  {
   "cell_type": "markdown",
   "metadata": {},
   "source": [
    "#### Problem Statement 7:\n",
    "Customers arrive at a rate of 72 per hour to my shop. What is the probability of 𝑘\n",
    "customers arriving in 4 minutes? a) 5 customers, b) not more than 3 customers, c)\n",
    "more than 3 customers. Give a pictorial representation of the same to validate your\n",
    "answer."
   ]
  },
  {
   "cell_type": "code",
   "execution_count": 42,
   "metadata": {},
   "outputs": [
    {
     "name": "stdout",
     "output_type": "stream",
     "text": [
      "The probability of 5 customers arriving in 4 minutes is: 0.17474768364388296\n",
      "The probability of not more than 3 customers arriving in 4 minutes is: 0.15169069760753714\n",
      "The probability of more than 3 customers arriving in 4 minutes is: 0.7057700835034357\n"
     ]
    }
   ],
   "source": [
    "from scipy.stats import poisson\n",
    "\n",
    "mean = 4*(72/60)# customers come in 4 minutes\n",
    "\n",
    "five = poisson.pmf(k=5, mu = mean)\n",
    "less_three = poisson.pmf(k=3, mu = mean)\n",
    "more_three = 1 - poisson.cdf(k=3, mu = mean)\n",
    "\n",
    "print(\"The probability of 5 customers arriving in 4 minutes is: {}\".format(five))\n",
    "print(\"The probability of not more than 3 customers arriving in 4 minutes is: {}\".format(less_three))\n",
    "print(\"The probability of more than 3 customers arriving in 4 minutes is: {}\".format(more_three))"
   ]
  },
  {
   "cell_type": "code",
   "execution_count": 53,
   "metadata": {},
   "outputs": [
    {
     "data": {
      "text/plain": [
       "Text(0, 0.5, 'Probability')"
      ]
     },
     "execution_count": 53,
     "metadata": {},
     "output_type": "execute_result"
    },
    {
     "data": {
      "image/png": "[encoded data removed]",
      "text/plain": [
       "<Figure size 1080x360 with 1 Axes>"
      ]
     },
     "metadata": {
      "needs_background": "light"
     },
     "output_type": "display_data"
    }
   ],
   "source": [
    "x = list(range(0,10))\n",
    "fig,ax = plt.subplots(1,1,figsize=(15,5))\n",
    "ax.plot(x, poisson.pmf(x,mean),'bs', ms=8, label='poisson pmf')\n",
    "ax.vlines(x, 0, poisson.pmf(x, mean),colors='g', lw=5, alpha=0.5)\n",
    "plt.xlabel('Customers')\n",
    "plt.ylabel('Probability')"
   ]
  },
  {
   "cell_type": "markdown",
   "metadata": {},
   "source": [
    "#### Problem Statement 8:\n",
    "I work as a data analyst in Aeon Learning Pvt. Ltd. After analyzing data, I make\n",
    "reports, where I have the efficiency of entering 77 words per minute with 6 errors per\n",
    "hour. What is the probability that I will commit 2 errors in a 455-word financial report?\n",
    "What happens when the no. of words increases/decreases (in case of 1000 words,\n",
    "255 words)?\n",
    "How is the 𝜆 affected?\n",
    "How does it influence the PMF?\n",
    "Give a pictorial representation of the same to validate your answer."
   ]
  },
  {
   "cell_type": "code",
   "execution_count": 59,
   "metadata": {},
   "outputs": [
    {
     "name": "stdout",
     "output_type": "stream",
     "text": [
      "The pobability of commiting 2 errors in 455 words financial report is : 0.09669027375144444 \n",
      "The pobability of commiting 2 errors in 1000 words financial report is : 0.23012815007300153 \n",
      "The pobability of commiting 2 errors in 255 words financial report is : 0.039377135392854104 \n"
     ]
    }
   ],
   "source": [
    "# 6 errors per hour \n",
    "# 6/60 = 0.1 errors per minute\n",
    "# 0.1/77 - errors per word\n",
    "\n",
    "mu = 0.1/77\n",
    "\n",
    "def calc_mu(n):\n",
    "    return n * mu\n",
    "\n",
    "print(\"The pobability of commiting 2 errors in 455 words financial report is : {} \".format(poisson.pmf(2,mu=calc_mu(455))))\n",
    "print(\"The pobability of commiting 2 errors in 1000 words financial report is : {} \".format(poisson.pmf(2,mu=calc_mu(1000))))\n",
    "print(\"The pobability of commiting 2 errors in 255 words financial report is : {} \".format(poisson.pmf(2,mu=calc_mu(255))))"
   ]
  },
  {
   "cell_type": "code",
   "execution_count": 61,
   "metadata": {},
   "outputs": [
    {
     "data": {
      "text/plain": [
       "<matplotlib.collections.LineCollection at 0x17c395695e0>"
      ]
     },
     "execution_count": 61,
     "metadata": {},
     "output_type": "execute_result"
    },
    {
     "data": {
      "image/png": "[encoded data removed]",
      "text/plain": [
       "<Figure size 864x432 with 1 Axes>"
      ]
     },
     "metadata": {
      "needs_background": "light"
     },
     "output_type": "display_data"
    }
   ],
   "source": [
    "x = range(100,1000,50)\n",
    "mu_2 = [i * mu for i in x]\n",
    "fig,ax = plt.subplots(1,1,figsize=(12,6))\n",
    "ax.plot(x,poisson.pmf(2,mu_2), 'bs', ms=8, label='poisson pmf')\n",
    "ax.vlines(x,0, poisson.pmf(2,mu_2), colors='g', lw=5, alpha=0.5)"
   ]
  },
  {
   "cell_type": "markdown",
   "metadata": {},
   "source": [
    "When number of words incraeses the probability of getting errors also increases. "
   ]
  },
  {
   "cell_type": "markdown",
   "metadata": {},
   "source": [
    "#### Problem Statement 10:\n",
    "Please compute the following:\n",
    "1. P(Z > 1.26), . P(Z < −0.86), P(Z > −1.37), P(−1.25 < Z < 0.37), . P(Z ≤ −4.6)\n",
    "2. Find the value 𝑧 such that 𝑃(𝑍 > 𝑧) = 0.05\n",
    "3. Find the value of 𝑧 such that 𝑃(−𝑧 < 𝑍 < 𝑧) = 0.99"
   ]
  },
  {
   "cell_type": "code",
   "execution_count": 62,
   "metadata": {},
   "outputs": [],
   "source": [
    "from scipy.stats import norm\n",
    "\n",
    "def Prob(z,b=-np.inf) :\n",
    "    return integrate.quad(norm.pdf,b,z)[0]"
   ]
  },
  {
   "cell_type": "code",
   "execution_count": 67,
   "metadata": {},
   "outputs": [
    {
     "name": "stdout",
     "output_type": "stream",
     "text": [
      "P(Z > 1.26) = 0.104\n",
      "P(Z < -0.86) = 0.195\n",
      "P(Z > -1.37) = 0.915\n",
      "P(−1.25 < Z < 0.37) = 0.539\n",
      "P(Z > -1.37) = 0.000\n"
     ]
    }
   ],
   "source": [
    "print('P(Z > 1.26) = %.3f'%(1-Prob(1.26)))\n",
    "print('P(Z < -0.86) = %.3f'%(Prob(-0.86)))\n",
    "print('P(Z > -1.37) = %.3f'%(1-Prob(-1.37)))\n",
    "print('P(−1.25 < Z < 0.37) = %.3f'%(Prob(0.37, b = -1.25)))\n",
    "print('P(Z > -1.37) = %.3f'%(Prob(-4.6)))"
   ]
  },
  {
   "cell_type": "code",
   "execution_count": 68,
   "metadata": {},
   "outputs": [
    {
     "name": "stdout",
     "output_type": "stream",
     "text": [
      "P(Z > z) = 0.05 is 1.645\n",
      "𝑃(−𝑧 < 𝑍 < 𝑧) = 0.99 is 2.576\n"
     ]
    }
   ],
   "source": [
    "print('P(Z > z) = 0.05 is %.3f'%(-1*norm.ppf(0.05)))\n",
    "print('𝑃(−𝑧 < 𝑍 < 𝑧) = 0.99 is %.3f'%(abs(norm.ppf(0.005))))"
   ]
  },
  {
   "cell_type": "markdown",
   "metadata": {},
   "source": [
    "#### Problem Statement 11:\n",
    "The current flow in a copper wire follow a normal distribution with a mean of 10 𝑚A\n",
    "and a variance of 4 (𝑚𝐴)2.\n",
    "What is the probability that a current measurement will exceed 13 𝑚𝐴? What is the\n",
    "probability that a current measurement is between 9 and 11mA? Determine the\n",
    "current measurement which has a probability of 0.98."
   ]
  },
  {
   "cell_type": "code",
   "execution_count": 74,
   "metadata": {},
   "outputs": [],
   "source": [
    "mean = 10\n",
    "std = np.sqrt(4)\n",
    "\n",
    "def calc(z, b=-np.inf):\n",
    "    z = (z-mean)/std\n",
    "    return integrate.quad(norm.pdf,b,z)[0]"
   ]
  },
  {
   "cell_type": "code",
   "execution_count": 75,
   "metadata": {},
   "outputs": [
    {
     "name": "stdout",
     "output_type": "stream",
     "text": [
      "Probability that current > 13mA is: 0.06680720126885797\n",
      "Probability that current is between 9 mA and 11 mA is : 1.3085375387259144\n"
     ]
    }
   ],
   "source": [
    "print(\"Probability that current > 13mA is: {}\".format(1-calc(13)))\n",
    "print(\"Probability that current is between 9 mA and 11 mA is : {}\".format(1-calc(11,b=9)))"
   ]
  },
  {
   "cell_type": "markdown",
   "metadata": {},
   "source": [
    "#### Problem Statement 12:\n",
    "The shaft in a piston has its diameter normally distributed with a mean of 0.2508 inch\n",
    "and a standard deviation of 0.0005 inch. The specifications of the shaft are 0.2500 ∓\n",
    "0.0015 inch. What proportion of shafts are in sync with the specifications? If the\n",
    "process is centered so that the mean is equal to the target value of 0.2500, what\n",
    "proportion of shafts conform to the new specifications? What is your conclusion from\n",
    "this experiment?"
   ]
  },
  {
   "cell_type": "code",
   "execution_count": 80,
   "metadata": {},
   "outputs": [],
   "source": [
    "def Proba(z,b=-np.inf) :\n",
    "    return integrate.quad(norm.pdf,b,z)[0]"
   ]
  },
  {
   "cell_type": "code",
   "execution_count": 87,
   "metadata": {},
   "outputs": [
    {
     "name": "stdout",
     "output_type": "stream",
     "text": [
      "P(-4.6 < Z < 1.4) = 0.919\n",
      "The proportion of shafts that are in sync with specifications is 91.9%\n"
     ]
    }
   ],
   "source": [
    "# P(0.2500-0.0015<= X <= 0.2500 + 0.0015)\n",
    "# P(0.2485 <= X <= 0.2515)\n",
    "# P(X-mean/std)\n",
    "# P((0.2485-0.2508)/0.0005) <= Z <= ((0.2515-0.2508)/0.0005)\n",
    "# P(-4.6 < Z < 1.4)\n",
    "print('P(-4.6 < Z < 1.4) = %.3f'%(Prob(1.4, b = -4.6)))\n",
    "print(\"The proportion of shafts that are in sync with specifications is 91.9%\")"
   ]
  },
  {
   "cell_type": "code",
   "execution_count": 90,
   "metadata": {},
   "outputs": [
    {
     "name": "stdout",
     "output_type": "stream",
     "text": [
      "P(-3 < Z < 3) = 0.997\n",
      "The proportion of shafts that are in sync with specifications when process is centered is 99.7%\n"
     ]
    }
   ],
   "source": [
    "# P(0.2500-0.0015<= X <= 0.2500 + 0.0015)\n",
    "# P(0.2485 <= X <= 0.2515)\n",
    "# P(X-mean/std)\n",
    "# P((0.2485-0.2500)/0.0005) <= Z <= ((0.2515-0.2508)/0.0005)\n",
    "# P(-3 < Z < 3)\n",
    "print('P(-3 < Z < 3) = %.3f'%(Prob(3, b = -3)))\n",
    "print(\"The proportion of shafts that are in sync with specifications when process is centered is 99.7%\")"
   ]
  },
  {
   "cell_type": "markdown",
   "metadata": {},
   "source": [
    "If the process is centred the number of shafts that are in sync with specifications increase to 99.7%. "
   ]
  },
  {
   "cell_type": "code",
   "execution_count": null,
   "metadata": {},
   "outputs": [],
   "source": []
  }
 ],
 "metadata": {
  "kernelspec": {
   "display_name": "Python 3",
   "language": "python",
   "name": "python3"
  },
  "language_info": {
   "codemirror_mode": {
    "name": "ipython",
    "version": 3
   },
   "file_extension": ".py",
   "mimetype": "text/x-python",
   "name": "python",
   "nbconvert_exporter": "python",
   "pygments_lexer": "ipython3",
   "version": "3.8.3"
  }
 },
 "nbformat": 4,
 "nbformat_minor": 4
}
